{
 "cells": [
  {
   "cell_type": "code",
   "execution_count": 95,
   "metadata": {},
   "outputs": [],
   "source": [
    "import os\n",
    "\n",
    "from pyspark.sql import SparkSession\n",
    "from pyspark.sql.functions import *"
   ]
  },
  {
   "cell_type": "code",
   "execution_count": 96,
   "metadata": {},
   "outputs": [],
   "source": [
    "spark = (\n",
    "    SparkSession\n",
    "    .builder\n",
    "    .enableHiveSupport()\n",
    "    .config('spark.sql.repl.eagerEval.enabled', 'true')\n",
    "    .getOrCreate()\n",
    ")"
   ]
  },
  {
   "cell_type": "code",
   "execution_count": 180,
   "metadata": {
    "scrolled": true
   },
   "outputs": [
    {
     "name": "stdout",
     "output_type": "stream",
     "text": [
      "--2020-03-15 22:13:10--  https://github.com/CSSEGISandData/COVID-19/archive/master.zip\n",
      "Resolving github.com (github.com)... 140.82.113.4\n",
      "Connecting to github.com (github.com)|140.82.113.4|:443... connected.\n",
      "HTTP request sent, awaiting response... 302 Found\n",
      "Location: https://codeload.github.com/CSSEGISandData/COVID-19/zip/master [following]\n",
      "--2020-03-15 22:13:10--  https://codeload.github.com/CSSEGISandData/COVID-19/zip/master\n",
      "Resolving codeload.github.com (codeload.github.com)... 140.82.114.9\n",
      "Connecting to codeload.github.com (codeload.github.com)|140.82.114.9|:443... connected.\n",
      "HTTP request sent, awaiting response... 416 Requested Range Not Satisfiable\n",
      "\n",
      "    The file is already fully retrieved; nothing to do.\n",
      "\n",
      "Archive:  /home/jovyan/data/github.com/CSSEGISandData/COVID-19/archive/master.zip\n",
      "d5eab1b3657e70f55b9eb9eb7e475475dac445fb\n"
     ]
    }
   ],
   "source": [
    "!wget -cNr -P ~/data/ https://github.com/CSSEGISandData/COVID-19/archive/master.zip && find ~/data -name \"*.zip\" -exec unzip -au {} -d ~/data \\;"
   ]
  },
  {
   "cell_type": "code",
   "execution_count": 98,
   "metadata": {
    "scrolled": true
   },
   "outputs": [
    {
     "name": "stdout",
     "output_type": "stream",
     "text": [
      "    39 /home/jovyan/data/COVID-19-master/csse_covid_19_data/csse_covid_19_daily_reports/01-22-2020.csv\n",
      "    46 /home/jovyan/data/COVID-19-master/csse_covid_19_data/csse_covid_19_daily_reports/01-23-2020.csv\n",
      "    41 /home/jovyan/data/COVID-19-master/csse_covid_19_data/csse_covid_19_daily_reports/01-24-2020.csv\n",
      "    44 /home/jovyan/data/COVID-19-master/csse_covid_19_data/csse_covid_19_daily_reports/01-25-2020.csv\n",
      "    47 /home/jovyan/data/COVID-19-master/csse_covid_19_data/csse_covid_19_daily_reports/01-26-2020.csv\n",
      "    51 /home/jovyan/data/COVID-19-master/csse_covid_19_data/csse_covid_19_daily_reports/01-27-2020.csv\n",
      "    52 /home/jovyan/data/COVID-19-master/csse_covid_19_data/csse_covid_19_daily_reports/01-28-2020.csv\n",
      "    54 /home/jovyan/data/COVID-19-master/csse_covid_19_data/csse_covid_19_daily_reports/01-29-2020.csv\n",
      "    58 /home/jovyan/data/COVID-19-master/csse_covid_19_data/csse_covid_19_daily_reports/01-30-2020.csv\n",
      "    63 /home/jovyan/data/COVID-19-master/csse_covid_19_data/csse_covid_19_daily_reports/01-31-2020.csv\n",
      "    68 /home/jovyan/data/COVID-19-master/csse_covid_19_data/csse_covid_19_daily_reports/02-01-2020.csv\n",
      "    68 /home/jovyan/data/COVID-19-master/csse_covid_19_data/csse_covid_19_daily_reports/02-02-2020.csv\n",
      "    69 /home/jovyan/data/COVID-19-master/csse_covid_19_data/csse_covid_19_daily_reports/02-03-2020.csv\n",
      "    71 /home/jovyan/data/COVID-19-master/csse_covid_19_data/csse_covid_19_daily_reports/02-04-2020.csv\n",
      "    72 /home/jovyan/data/COVID-19-master/csse_covid_19_data/csse_covid_19_daily_reports/02-05-2020.csv\n",
      "    72 /home/jovyan/data/COVID-19-master/csse_covid_19_data/csse_covid_19_daily_reports/02-06-2020.csv\n",
      "    73 /home/jovyan/data/COVID-19-master/csse_covid_19_data/csse_covid_19_daily_reports/02-07-2020.csv\n",
      "    73 /home/jovyan/data/COVID-19-master/csse_covid_19_data/csse_covid_19_daily_reports/02-08-2020.csv\n",
      "    73 /home/jovyan/data/COVID-19-master/csse_covid_19_data/csse_covid_19_daily_reports/02-09-2020.csv\n",
      "    73 /home/jovyan/data/COVID-19-master/csse_covid_19_data/csse_covid_19_daily_reports/02-10-2020.csv\n",
      "    74 /home/jovyan/data/COVID-19-master/csse_covid_19_data/csse_covid_19_daily_reports/02-11-2020.csv\n",
      "    74 /home/jovyan/data/COVID-19-master/csse_covid_19_data/csse_covid_19_daily_reports/02-12-2020.csv\n",
      "    75 /home/jovyan/data/COVID-19-master/csse_covid_19_data/csse_covid_19_daily_reports/02-13-2020.csv\n",
      "    76 /home/jovyan/data/COVID-19-master/csse_covid_19_data/csse_covid_19_daily_reports/02-14-2020.csv\n",
      "    76 /home/jovyan/data/COVID-19-master/csse_covid_19_data/csse_covid_19_daily_reports/02-15-2020.csv\n",
      "    76 /home/jovyan/data/COVID-19-master/csse_covid_19_data/csse_covid_19_daily_reports/02-16-2020.csv\n",
      "    75 /home/jovyan/data/COVID-19-master/csse_covid_19_data/csse_covid_19_daily_reports/02-17-2020.csv\n",
      "    75 /home/jovyan/data/COVID-19-master/csse_covid_19_data/csse_covid_19_daily_reports/02-18-2020.csv\n",
      "    77 /home/jovyan/data/COVID-19-master/csse_covid_19_data/csse_covid_19_daily_reports/02-19-2020.csv\n",
      "    77 /home/jovyan/data/COVID-19-master/csse_covid_19_data/csse_covid_19_daily_reports/02-20-2020.csv\n",
      "    85 /home/jovyan/data/COVID-19-master/csse_covid_19_data/csse_covid_19_daily_reports/02-21-2020.csv\n",
      "    85 /home/jovyan/data/COVID-19-master/csse_covid_19_data/csse_covid_19_daily_reports/02-22-2020.csv\n",
      "    86 /home/jovyan/data/COVID-19-master/csse_covid_19_data/csse_covid_19_daily_reports/02-23-2020.csv\n",
      "    91 /home/jovyan/data/COVID-19-master/csse_covid_19_data/csse_covid_19_daily_reports/02-24-2020.csv\n",
      "    95 /home/jovyan/data/COVID-19-master/csse_covid_19_data/csse_covid_19_daily_reports/02-25-2020.csv\n",
      "   102 /home/jovyan/data/COVID-19-master/csse_covid_19_data/csse_covid_19_daily_reports/02-26-2020.csv\n",
      "   106 /home/jovyan/data/COVID-19-master/csse_covid_19_data/csse_covid_19_daily_reports/02-27-2020.csv\n",
      "   115 /home/jovyan/data/COVID-19-master/csse_covid_19_data/csse_covid_19_daily_reports/02-28-2020.csv\n",
      "   120 /home/jovyan/data/COVID-19-master/csse_covid_19_data/csse_covid_19_daily_reports/02-29-2020.csv\n",
      "   126 /home/jovyan/data/COVID-19-master/csse_covid_19_data/csse_covid_19_daily_reports/03-01-2020.csv\n",
      "   142 /home/jovyan/data/COVID-19-master/csse_covid_19_data/csse_covid_19_daily_reports/03-02-2020.csv\n",
      "   152 /home/jovyan/data/COVID-19-master/csse_covid_19_data/csse_covid_19_daily_reports/03-03-2020.csv\n",
      "   161 /home/jovyan/data/COVID-19-master/csse_covid_19_data/csse_covid_19_daily_reports/03-04-2020.csv\n",
      "   174 /home/jovyan/data/COVID-19-master/csse_covid_19_data/csse_covid_19_daily_reports/03-05-2020.csv\n",
      "   200 /home/jovyan/data/COVID-19-master/csse_covid_19_data/csse_covid_19_daily_reports/03-06-2020.csv\n",
      "   226 /home/jovyan/data/COVID-19-master/csse_covid_19_data/csse_covid_19_daily_reports/03-07-2020.csv\n",
      "   256 /home/jovyan/data/COVID-19-master/csse_covid_19_data/csse_covid_19_daily_reports/03-08-2020.csv\n",
      "   267 /home/jovyan/data/COVID-19-master/csse_covid_19_data/csse_covid_19_daily_reports/03-09-2020.csv\n",
      "   207 /home/jovyan/data/COVID-19-master/csse_covid_19_data/csse_covid_19_daily_reports/03-10-2020.csv\n",
      "   217 /home/jovyan/data/COVID-19-master/csse_covid_19_data/csse_covid_19_daily_reports/03-11-2020.csv\n",
      "   219 /home/jovyan/data/COVID-19-master/csse_covid_19_data/csse_covid_19_daily_reports/03-12-2020.csv\n",
      "   230 /home/jovyan/data/COVID-19-master/csse_covid_19_data/csse_covid_19_daily_reports/03-13-2020.csv\n",
      "   250 /home/jovyan/data/COVID-19-master/csse_covid_19_data/csse_covid_19_daily_reports/03-14-2020.csv\n",
      "  5674 total\n"
     ]
    }
   ],
   "source": [
    "!wc -l ~/data/COVID-19-master/csse_covid_19_data/csse_covid_19_daily_reports/*.csv"
   ]
  },
  {
   "cell_type": "code",
   "execution_count": 100,
   "metadata": {},
   "outputs": [
    {
     "name": "stdout",
     "output_type": "stream",
     "text": [
      "CREATE TABLE IF NOT EXISTS csse_covid_19_daily_reports(\n",
      "    `Last Update` STRING,\n",
      "    `Country/Region` STRING,\n",
      "    `Province/State` STRING,\n",
      "    Confirmed STRING,\n",
      "    Recovered STRING,\n",
      "    Deaths STRING,\n",
      "    Latitude STRING,\n",
      "    Longitude STRING\n",
      ")\n"
     ]
    }
   ],
   "source": [
    "with open(\"./sql/csse_covid_19_daily_reports/create.sql\") as f_in:\n",
    "    text = f_in.read()\n",
    "    print(text)\n",
    "    spark.sql(\"DROP TABLE IF EXISTS csse_covid_19_daily_reports\")\n",
    "    spark.sql(text)"
   ]
  },
  {
   "cell_type": "code",
   "execution_count": 101,
   "metadata": {},
   "outputs": [
    {
     "data": {
      "text/plain": [
       "[Table(name='csse_covid_19_daily_reports', database='default', description=None, tableType='MANAGED', isTemporary=False)]"
      ]
     },
     "execution_count": 101,
     "metadata": {},
     "output_type": "execute_result"
    }
   ],
   "source": [
    "spark.catalog.listTables()"
   ]
  },
  {
   "cell_type": "code",
   "execution_count": 102,
   "metadata": {},
   "outputs": [],
   "source": [
    "input_files = os.path.expanduser('~/data/COVID-19-master/csse_covid_19_data/csse_covid_19_daily_reports/*.csv')"
   ]
  },
  {
   "cell_type": "code",
   "execution_count": 103,
   "metadata": {},
   "outputs": [],
   "source": [
    "df = spark.read.csv(\n",
    "    input_files,\n",
    "    header=True,\n",
    ")"
   ]
  },
  {
   "cell_type": "code",
   "execution_count": 154,
   "metadata": {},
   "outputs": [],
   "source": [
    "df = df.withColumn('input_file_name', input_file_name())"
   ]
  },
  {
   "cell_type": "code",
   "execution_count": 155,
   "metadata": {},
   "outputs": [
    {
     "name": "stdout",
     "output_type": "stream",
     "text": [
      "Province/State STRING,\n",
      "Country/Region STRING,\n",
      "Last Update STRING,\n",
      "Confirmed STRING,\n",
      "Deaths STRING,\n",
      "Recovered STRING,\n",
      "Latitude STRING,\n",
      "Longitude STRING,\n",
      "input_file_name STRING\n"
     ]
    }
   ],
   "source": [
    "print(',\\n'.join(f'{f} {k.upper()}' for (f, k) in df.dtypes))"
   ]
  },
  {
   "cell_type": "code",
   "execution_count": 157,
   "metadata": {},
   "outputs": [
    {
     "data": {
      "text/html": [
       "<table border='1'>\n",
       "<tr><th></th></tr>\n",
       "</table>\n"
      ],
      "text/plain": [
       "++\n",
       "||\n",
       "++\n",
       "++"
      ]
     },
     "execution_count": 157,
     "metadata": {},
     "output_type": "execute_result"
    }
   ],
   "source": [
    "spark.sql(\"\"\"\n",
    "DROP TABLE IF EXISTS csse_covid_19_daily_reports_enriched\n",
    "\"\"\")\n",
    "spark.sql(\"\"\"\n",
    "CREATE TABLE IF NOT EXISTS csse_covid_19_daily_reports_enriched(\n",
    "    `Last Update` TIMESTAMP,\n",
    "    `Province/State` STRING,\n",
    "    `Country/Region` STRING,\n",
    "    Confirmed INT,\n",
    "    Deaths INT,\n",
    "    Recovered INT,\n",
    "    Active INT,\n",
    "    Latitude STRING,\n",
    "    Longitude STRING,\n",
    "    input_file_name STRING\n",
    ")\n",
    "\"\"\")"
   ]
  },
  {
   "cell_type": "code",
   "execution_count": 158,
   "metadata": {},
   "outputs": [
    {
     "data": {
      "text/plain": [
       "[Table(name='csse_covid_19_daily_reports', database='default', description=None, tableType='MANAGED', isTemporary=False),\n",
       " Table(name='csse_covid_19_daily_reports_enriched', database='default', description=None, tableType='MANAGED', isTemporary=False)]"
      ]
     },
     "execution_count": 158,
     "metadata": {},
     "output_type": "execute_result"
    }
   ],
   "source": [
    "spark.catalog.listTables()"
   ]
  },
  {
   "cell_type": "code",
   "execution_count": 160,
   "metadata": {},
   "outputs": [],
   "source": [
    "a = df.alias('a')"
   ]
  },
  {
   "cell_type": "code",
   "execution_count": 161,
   "metadata": {},
   "outputs": [],
   "source": [
    "b = a.select(\n",
    "    to_timestamp(trim(a['Last Update'])),\n",
    "    trim(a['Province/State']),\n",
    "    trim(a['Country/Region']),\n",
    "    trim(a.Confirmed).cast('INT'),\n",
    "    trim(a.Deaths).cast('INT'),\n",
    "    trim(a.Recovered).cast('INT'),\n",
    "    (a.Confirmed - (a.Deaths + a.Recovered)).cast('INT'),\n",
    "    trim(a.Latitude),\n",
    "    trim(a.Longitude),\n",
    "    a.input_file_name\n",
    ")"
   ]
  },
  {
   "cell_type": "code",
   "execution_count": 162,
   "metadata": {},
   "outputs": [],
   "source": [
    "b.write.insertInto('csse_covid_19_daily_reports_enriched', overwrite=True)"
   ]
  },
  {
   "cell_type": "code",
   "execution_count": 163,
   "metadata": {},
   "outputs": [],
   "source": [
    "csse_covid_19_daily_reports_enriched = spark.table('csse_covid_19_daily_reports_enriched')"
   ]
  },
  {
   "cell_type": "code",
   "execution_count": 178,
   "metadata": {},
   "outputs": [],
   "source": [
    "csse_covid_19_daily_reports_enriched.orderBy(\n",
    "    asc_nulls_last('Last Update')\n",
    ").drop_duplicates(\n",
    "    subset=csse_covid_19_daily_reports_enriched.columns[:-1]\n",
    ").write.mode(\n",
    "    'overwrite'\n",
    ").csv(\n",
    "    './samples/output/csse_covid_19_daily_reports_enriched.csv', \n",
    "    header=True\n",
    ")"
   ]
  },
  {
   "cell_type": "code",
   "execution_count": 176,
   "metadata": {},
   "outputs": [
    {
     "data": {
      "text/plain": [
       "3520"
      ]
     },
     "execution_count": 176,
     "metadata": {},
     "output_type": "execute_result"
    }
   ],
   "source": [
    "csse_covid_19_daily_reports_enriched.dropDuplicates(subset=['Last Update','Province/State','Country/Region','Confirmed','Deaths','Recovered','Active','Latitude','Longitude']).count()"
   ]
  },
  {
   "cell_type": "code",
   "execution_count": null,
   "metadata": {},
   "outputs": [],
   "source": []
  }
 ],
 "metadata": {
  "kernelspec": {
   "display_name": "Python 3",
   "language": "python",
   "name": "python3"
  },
  "language_info": {
   "codemirror_mode": {
    "name": "ipython",
    "version": 3
   },
   "file_extension": ".py",
   "mimetype": "text/x-python",
   "name": "python",
   "nbconvert_exporter": "python",
   "pygments_lexer": "ipython3",
   "version": "3.7.6"
  }
 },
 "nbformat": 4,
 "nbformat_minor": 4
}
