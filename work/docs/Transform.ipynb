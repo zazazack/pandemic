{
 "cells": [
  {
   "cell_type": "code",
   "execution_count": 1,
   "metadata": {},
   "outputs": [],
   "source": [
    "from pyspark.sql import SparkSession\n",
    "from pyspark.sql.functions import *"
   ]
  },
  {
   "cell_type": "code",
   "execution_count": 12,
   "metadata": {
    "scrolled": true
   },
   "outputs": [
    {
     "name": "stdout",
     "output_type": "stream",
     "text": [
      "--2020-03-21 19:31:22--  https://github.com/CSSEGISandData/COVID-19/archive/master.zip\n",
      "Resolving github.com (github.com)... 140.82.112.4\n",
      "Connecting to github.com (github.com)|140.82.112.4|:443... connected.\n",
      "HTTP request sent, awaiting response... 302 Found\n",
      "Location: https://codeload.github.com/CSSEGISandData/COVID-19/zip/master [following]\n",
      "--2020-03-21 19:31:22--  https://codeload.github.com/CSSEGISandData/COVID-19/zip/master\n",
      "Resolving codeload.github.com (codeload.github.com)... 140.82.113.10\n",
      "Connecting to codeload.github.com (codeload.github.com)|140.82.113.10|:443... connected.\n",
      "HTTP request sent, awaiting response... 200 OK\n",
      "Length: unspecified [application/zip]\n",
      "Saving to: ‘/tmp/master.zip’\n",
      "\n",
      "master.zip              [      <=>           ]  42.84M  3.44MB/s    in 13s     \n",
      "\n",
      "2020-03-21 19:31:35 (3.41 MB/s) - ‘/tmp/master.zip’ saved [44920474]\n",
      "\n"
     ]
    }
   ],
   "source": [
    "!wget -c -P /tmp/ https://github.com/CSSEGISandData/COVID-19/archive/master.zip"
   ]
  },
  {
   "cell_type": "code",
   "execution_count": 3,
   "metadata": {
    "scrolled": true
   },
   "outputs": [
    {
     "name": "stdout",
     "output_type": "stream",
     "text": [
      "Archive:  /tmp/master.zip\n",
      "02be34e5ec0409835f79f61a547b2b42f2c6dfd7\n",
      "   creating: COVID-19-master/\n",
      " extracting: COVID-19-master/.gitignore  [text]  \n",
      "  inflating: COVID-19-master/README.md  [text]  \n",
      "   creating: COVID-19-master/archived_data/\n",
      "  inflating: COVID-19-master/archived_data/README.md  [text]  \n",
      "   creating: COVID-19-master/archived_data/archived_daily_case_updates/\n",
      " extracting: COVID-19-master/archived_data/archived_daily_case_updates/.gitignore  [text]  \n",
      "  inflating: COVID-19-master/archived_data/archived_daily_case_updates/01-21-2020_2200.csv  [text]  \n",
      "  inflating: COVID-19-master/archived_data/archived_daily_case_updates/01-22-2020_1200.csv  [text]  \n",
      "  inflating: COVID-19-master/archived_data/archived_daily_case_updates/01-23-2020_1200.csv  [text]  \n",
      "  inflating: COVID-19-master/archived_data/archived_daily_case_updates/01-24-2020_0000.csv  [text]  \n",
      "  inflating: COVID-19-master/archived_data/archived_daily_case_updates/01-24-2020_1200.csv  [text]  \n",
      "  inflating: COVID-19-master/archived_data/archived_daily_case_updates/01-25-2020_0000.csv  [text]  \n",
      "  inflating: COVID-19-master/archived_data/archived_daily_case_updates/01-25-2020_1200.csv  [text]  \n",
      "  inflating: COVID-19-master/archived_data/archived_daily_case_updates/01-25-2020_2200.csv  [text]  \n",
      "  inflating: COVID-19-master/archived_data/archived_daily_case_updates/01-26-2020_1100.csv  [text]  \n",
      "  inflating: COVID-19-master/archived_data/archived_daily_case_updates/01-26-2020_2300.csv  [text]  \n",
      "  inflating: COVID-19-master/archived_data/archived_daily_case_updates/01-27-2020_0900.csv  [text]  \n",
      "  inflating: COVID-19-master/archived_data/archived_daily_case_updates/01-27-2020_1900.csv  [text]  \n",
      "  inflating: COVID-19-master/archived_data/archived_daily_case_updates/01-27-2020_2030.csv  [text]  \n",
      "  inflating: COVID-19-master/archived_data/archived_daily_case_updates/01-28-2020_1300.csv  [text]  \n",
      "  inflating: COVID-19-master/archived_data/archived_daily_case_updates/01-28-2020_1800.csv  [text]  \n",
      "  inflating: COVID-19-master/archived_data/archived_daily_case_updates/01-28-2020_2300.csv  [text]  \n",
      "  inflating: COVID-19-master/archived_data/archived_daily_case_updates/01-29-2020_1330.csv  [text]  \n",
      "  inflating: COVID-19-master/archived_data/archived_daily_case_updates/01-29-2020_1430.csv  [text]  \n",
      "  inflating: COVID-19-master/archived_data/archived_daily_case_updates/01-29-2020_2100.csv  [text]  \n",
      "  inflating: COVID-19-master/archived_data/archived_daily_case_updates/01-30-2020_1100.csv  [text]  \n",
      "  inflating: COVID-19-master/archived_data/archived_daily_case_updates/01-30-2020_2130.csv  [text]  \n",
      "  inflating: COVID-19-master/archived_data/archived_daily_case_updates/01-31-2020_1400.csv  [text]  \n",
      "  inflating: COVID-19-master/archived_data/archived_daily_case_updates/02-01-2020_1000.csv  [text]  \n",
      "  inflating: COVID-19-master/archived_data/archived_daily_case_updates/02-01-2020_1800.csv  [text]  \n",
      "  inflating: COVID-19-master/archived_data/archived_daily_case_updates/02-01-2020_2300.csv  [text]  \n",
      "  inflating: COVID-19-master/archived_data/archived_daily_case_updates/02-02-2020_0500.csv  [text]  \n",
      "  inflating: COVID-19-master/archived_data/archived_daily_case_updates/02-02-2020_1945.csv  [text]  \n",
      "  inflating: COVID-19-master/archived_data/archived_daily_case_updates/02-02-2020_2100.csv  [text]  \n",
      "  inflating: COVID-19-master/archived_data/archived_daily_case_updates/02-03-2020_1230.csv  [text]  \n",
      "  inflating: COVID-19-master/archived_data/archived_daily_case_updates/02-03-2020_2140.csv  [text]  \n",
      "  inflating: COVID-19-master/archived_data/archived_daily_case_updates/02-04-2020_0800.csv  [text]  \n",
      "  inflating: COVID-19-master/archived_data/archived_daily_case_updates/02-04-2020_1150.csv  [text]  \n",
      "  inflating: COVID-19-master/archived_data/archived_daily_case_updates/02-04-2020_2200.csv  [text]  \n",
      "  inflating: COVID-19-master/archived_data/archived_daily_case_updates/02-05-2020_1220.csv  [text]  \n",
      "  inflating: COVID-19-master/archived_data/archived_daily_case_updates/02-06-2020_1318.csv  [text]  \n",
      "  inflating: COVID-19-master/archived_data/archived_daily_case_updates/02-06-2020_2005.csv  [text]  \n",
      "  inflating: COVID-19-master/archived_data/archived_daily_case_updates/02-07-2020_2024.csv  [text]  \n",
      "  inflating: COVID-19-master/archived_data/archived_daily_case_updates/02-08-2020_1024.csv  [text]  \n",
      "  inflating: COVID-19-master/archived_data/archived_daily_case_updates/02-08-2020_2304.csv  [text]  \n",
      "  inflating: COVID-19-master/archived_data/archived_daily_case_updates/02-09-2020_1030.csv  [text]  \n",
      "  inflating: COVID-19-master/archived_data/archived_daily_case_updates/02-09-2020_2320.csv  [text]  \n",
      "  inflating: COVID-19-master/archived_data/archived_daily_case_updates/02-10-2020_1030.csv  [text]  \n",
      "  inflating: COVID-19-master/archived_data/archived_daily_case_updates/02-10-2020_1930.csv  [text]  \n",
      "  inflating: COVID-19-master/archived_data/archived_daily_case_updates/02-11-2020_1050.csv  [text]  \n",
      "  inflating: COVID-19-master/archived_data/archived_daily_case_updates/02-11-2020_2044.csv  [text]  \n",
      "  inflating: COVID-19-master/archived_data/archived_daily_case_updates/02-12-2020_1020.csv  [text]  \n",
      "  inflating: COVID-19-master/archived_data/archived_daily_case_updates/02-12-2020_2200.csv  [text]  \n",
      "  inflating: COVID-19-master/archived_data/archived_daily_case_updates/02-13-2020_1000.csv  [text]  \n",
      "  inflating: COVID-19-master/archived_data/archived_daily_case_updates/02-13-2020_2115.csv  [text]  \n",
      "  inflating: COVID-19-master/archived_data/archived_daily_case_updates/02-14-2020_1123.csv  [text]  \n",
      "  inflating: COVID-19-master/archived_data/archived_daily_case_updates/README.md  [text]  \n",
      "   creating: COVID-19-master/archived_data/archived_time_series/\n",
      " extracting: COVID-19-master/archived_data/archived_time_series/.gitignore  [text]  \n",
      "  inflating: COVID-19-master/archived_data/archived_time_series/README.md  [text]  \n",
      "  inflating: COVID-19-master/archived_data/archived_time_series/time_series_2019-ncov-Confirmed.csv  [text]  \n",
      "  inflating: COVID-19-master/archived_data/archived_time_series/time_series_2019-ncov-Deaths.csv  [text]  \n",
      "  inflating: COVID-19-master/archived_data/archived_time_series/time_series_2019-ncov-Recovered.csv  [text]  \n",
      "   creating: COVID-19-master/csse_covid_19_data/\n",
      "  inflating: COVID-19-master/csse_covid_19_data/README.md  [text]  \n",
      "   creating: COVID-19-master/csse_covid_19_data/csse_covid_19_daily_reports/\n",
      " extracting: COVID-19-master/csse_covid_19_data/csse_covid_19_daily_reports/.gitignore  [text]  \n",
      "  inflating: COVID-19-master/csse_covid_19_data/csse_covid_19_daily_reports/01-22-2020.csv  [text]  \n",
      "  inflating: COVID-19-master/csse_covid_19_data/csse_covid_19_daily_reports/01-23-2020.csv  [text]  \n",
      "  inflating: COVID-19-master/csse_covid_19_data/csse_covid_19_daily_reports/01-24-2020.csv  [text]  \n",
      "  inflating: COVID-19-master/csse_covid_19_data/csse_covid_19_daily_reports/01-25-2020.csv  [text]  \n",
      "  inflating: COVID-19-master/csse_covid_19_data/csse_covid_19_daily_reports/01-26-2020.csv  [text]  \n",
      "  inflating: COVID-19-master/csse_covid_19_data/csse_covid_19_daily_reports/01-27-2020.csv  [text]  \n",
      "  inflating: COVID-19-master/csse_covid_19_data/csse_covid_19_daily_reports/01-28-2020.csv  [text]  \n",
      "  inflating: COVID-19-master/csse_covid_19_data/csse_covid_19_daily_reports/01-29-2020.csv  [text]  \n",
      "  inflating: COVID-19-master/csse_covid_19_data/csse_covid_19_daily_reports/01-30-2020.csv  [text]  \n",
      "  inflating: COVID-19-master/csse_covid_19_data/csse_covid_19_daily_reports/01-31-2020.csv  [text]  \n",
      "  inflating: COVID-19-master/csse_covid_19_data/csse_covid_19_daily_reports/02-01-2020.csv  [text]  \n",
      "  inflating: COVID-19-master/csse_covid_19_data/csse_covid_19_daily_reports/02-02-2020.csv  [text]  \n",
      "  inflating: COVID-19-master/csse_covid_19_data/csse_covid_19_daily_reports/02-03-2020.csv  [text]  \n",
      "  inflating: COVID-19-master/csse_covid_19_data/csse_covid_19_daily_reports/02-04-2020.csv  [text]  \n",
      "  inflating: COVID-19-master/csse_covid_19_data/csse_covid_19_daily_reports/02-05-2020.csv  [text]  \n",
      "  inflating: COVID-19-master/csse_covid_19_data/csse_covid_19_daily_reports/02-06-2020.csv  [text]  \n",
      "  inflating: COVID-19-master/csse_covid_19_data/csse_covid_19_daily_reports/02-07-2020.csv  [text]  \n",
      "  inflating: COVID-19-master/csse_covid_19_data/csse_covid_19_daily_reports/02-08-2020.csv  [text]  \n",
      "  inflating: COVID-19-master/csse_covid_19_data/csse_covid_19_daily_reports/02-09-2020.csv  [text]  \n",
      "  inflating: COVID-19-master/csse_covid_19_data/csse_covid_19_daily_reports/02-10-2020.csv  [text]  \n",
      "  inflating: COVID-19-master/csse_covid_19_data/csse_covid_19_daily_reports/02-11-2020.csv  [text]  \n",
      "  inflating: COVID-19-master/csse_covid_19_data/csse_covid_19_daily_reports/02-12-2020.csv  [text]  \n",
      "  inflating: COVID-19-master/csse_covid_19_data/csse_covid_19_daily_reports/02-13-2020.csv  [text]  \n",
      "  inflating: COVID-19-master/csse_covid_19_data/csse_covid_19_daily_reports/02-14-2020.csv  [text]  \n",
      "  inflating: COVID-19-master/csse_covid_19_data/csse_covid_19_daily_reports/02-15-2020.csv  [text]  \n",
      "  inflating: COVID-19-master/csse_covid_19_data/csse_covid_19_daily_reports/02-16-2020.csv  [text]  \n",
      "  inflating: COVID-19-master/csse_covid_19_data/csse_covid_19_daily_reports/02-17-2020.csv  [text]  \n",
      "  inflating: COVID-19-master/csse_covid_19_data/csse_covid_19_daily_reports/02-18-2020.csv  [text]  \n",
      "  inflating: COVID-19-master/csse_covid_19_data/csse_covid_19_daily_reports/02-19-2020.csv  [text]  \n",
      "  inflating: COVID-19-master/csse_covid_19_data/csse_covid_19_daily_reports/02-20-2020.csv  [text]  \n",
      "  inflating: COVID-19-master/csse_covid_19_data/csse_covid_19_daily_reports/02-21-2020.csv  [text]  \n",
      "  inflating: COVID-19-master/csse_covid_19_data/csse_covid_19_daily_reports/02-22-2020.csv  [text]  \n",
      "  inflating: COVID-19-master/csse_covid_19_data/csse_covid_19_daily_reports/02-23-2020.csv  [text]  \n",
      "  inflating: COVID-19-master/csse_covid_19_data/csse_covid_19_daily_reports/02-24-2020.csv  [text]  \n",
      "  inflating: COVID-19-master/csse_covid_19_data/csse_covid_19_daily_reports/02-25-2020.csv  [text]  \n",
      "  inflating: COVID-19-master/csse_covid_19_data/csse_covid_19_daily_reports/02-26-2020.csv  [text]  \n",
      "  inflating: COVID-19-master/csse_covid_19_data/csse_covid_19_daily_reports/02-27-2020.csv  [text]  \n",
      "  inflating: COVID-19-master/csse_covid_19_data/csse_covid_19_daily_reports/02-28-2020.csv  [text]  \n",
      "  inflating: COVID-19-master/csse_covid_19_data/csse_covid_19_daily_reports/02-29-2020.csv  [text]  \n",
      "  inflating: COVID-19-master/csse_covid_19_data/csse_covid_19_daily_reports/03-01-2020.csv  [text]  \n",
      "  inflating: COVID-19-master/csse_covid_19_data/csse_covid_19_daily_reports/03-02-2020.csv  [text]  \n",
      "  inflating: COVID-19-master/csse_covid_19_data/csse_covid_19_daily_reports/03-03-2020.csv  [text]  \n",
      "  inflating: COVID-19-master/csse_covid_19_data/csse_covid_19_daily_reports/03-04-2020.csv  [text]  \n",
      "  inflating: COVID-19-master/csse_covid_19_data/csse_covid_19_daily_reports/03-05-2020.csv  [text]  \n",
      "  inflating: COVID-19-master/csse_covid_19_data/csse_covid_19_daily_reports/03-06-2020.csv  [text]  \n",
      "  inflating: COVID-19-master/csse_covid_19_data/csse_covid_19_daily_reports/03-07-2020.csv  [text]  \n",
      "  inflating: COVID-19-master/csse_covid_19_data/csse_covid_19_daily_reports/03-08-2020.csv  [text]  \n",
      "  inflating: COVID-19-master/csse_covid_19_data/csse_covid_19_daily_reports/03-09-2020.csv  [text]  \n",
      "  inflating: COVID-19-master/csse_covid_19_data/csse_covid_19_daily_reports/03-10-2020.csv  [text]  \n",
      "  inflating: COVID-19-master/csse_covid_19_data/csse_covid_19_daily_reports/03-11-2020.csv  [text]  \n",
      "  inflating: COVID-19-master/csse_covid_19_data/csse_covid_19_daily_reports/03-12-2020.csv  [text]  \n",
      "  inflating: COVID-19-master/csse_covid_19_data/csse_covid_19_daily_reports/03-13-2020.csv  [text]  \n",
      "  inflating: COVID-19-master/csse_covid_19_data/csse_covid_19_daily_reports/03-14-2020.csv  [text]  \n",
      "  inflating: COVID-19-master/csse_covid_19_data/csse_covid_19_daily_reports/03-15-2020.csv  [text]  \n",
      "  inflating: COVID-19-master/csse_covid_19_data/csse_covid_19_daily_reports/03-16-2020.csv  [text]  \n",
      "  inflating: COVID-19-master/csse_covid_19_data/csse_covid_19_daily_reports/03-17-2020.csv  [text]  \n",
      "  inflating: COVID-19-master/csse_covid_19_data/csse_covid_19_daily_reports/03-18-2020.csv  [text]  \n",
      "  inflating: COVID-19-master/csse_covid_19_data/csse_covid_19_daily_reports/03-19-2020.csv  [text]  \n",
      "  inflating: COVID-19-master/csse_covid_19_data/csse_covid_19_daily_reports/03-20-2020.csv  [text]  \n",
      " extracting: COVID-19-master/csse_covid_19_data/csse_covid_19_daily_reports/README.md  [empty] \n",
      "   creating: COVID-19-master/csse_covid_19_data/csse_covid_19_time_series/\n",
      " extracting: COVID-19-master/csse_covid_19_data/csse_covid_19_time_series/.gitignore  [text]  \n",
      " extracting: COVID-19-master/csse_covid_19_data/csse_covid_19_time_series/README.md  [empty] \n",
      "  inflating: COVID-19-master/csse_covid_19_data/csse_covid_19_time_series/time_series_19-covid-Confirmed.csv  [text]  \n",
      "  inflating: COVID-19-master/csse_covid_19_data/csse_covid_19_time_series/time_series_19-covid-Deaths.csv  [text]  \n",
      "  inflating: COVID-19-master/csse_covid_19_data/csse_covid_19_time_series/time_series_19-covid-Recovered.csv  [text]  \n",
      "   creating: COVID-19-master/who_covid_19_situation_reports/\n",
      "  inflating: COVID-19-master/who_covid_19_situation_reports/README.md  [text]  \n",
      "   creating: COVID-19-master/who_covid_19_situation_reports/who_covid_19_sit_rep_pdfs/\n",
      "  inflating: COVID-19-master/who_covid_19_situation_reports/who_covid_19_sit_rep_pdfs/20200121-sitrep-1-2019-ncov.pdf  [binary]\n",
      "  inflating: COVID-19-master/who_covid_19_situation_reports/who_covid_19_sit_rep_pdfs/20200122-sitrep-2-2019-ncov.pdf  [binary]\n",
      "  inflating: COVID-19-master/who_covid_19_situation_reports/who_covid_19_sit_rep_pdfs/20200123-sitrep-3-2019-ncov.pdf  [binary]\n",
      "  inflating: COVID-19-master/who_covid_19_situation_reports/who_covid_19_sit_rep_pdfs/20200124-sitrep-4-2019-ncov.pdf  [binary]\n",
      "  inflating: COVID-19-master/who_covid_19_situation_reports/who_covid_19_sit_rep_pdfs/20200125-sitrep-5-2019-ncov.pdf  [binary]\n",
      "  inflating: COVID-19-master/who_covid_19_situation_reports/who_covid_19_sit_rep_pdfs/20200126-sitrep-6-2019--ncov.pdf  [binary]\n",
      "  inflating: COVID-19-master/who_covid_19_situation_reports/who_covid_19_sit_rep_pdfs/20200127-sitrep-7-2019--ncov.pdf  [binary]\n",
      "  inflating: COVID-19-master/who_covid_19_situation_reports/who_covid_19_sit_rep_pdfs/20200128-sitrep-8-ncov-cleared.pdf  [binary]\n",
      "  inflating: COVID-19-master/who_covid_19_situation_reports/who_covid_19_sit_rep_pdfs/20200129-sitrep-9-ncov-v2.pdf  [binary]\n",
      "  inflating: COVID-19-master/who_covid_19_situation_reports/who_covid_19_sit_rep_pdfs/20200130-sitrep-10-ncov.pdf  [binary]\n",
      "  inflating: COVID-19-master/who_covid_19_situation_reports/who_covid_19_sit_rep_pdfs/20200131-sitrep-11-ncov.pdf  [binary]\n",
      "  inflating: COVID-19-master/who_covid_19_situation_reports/who_covid_19_sit_rep_pdfs/20200201-sitrep-12-ncov.pdf  [binary]\n",
      "  inflating: COVID-19-master/who_covid_19_situation_reports/who_covid_19_sit_rep_pdfs/20200202-sitrep-13-ncov-v3.pdf  [binary]\n",
      "  inflating: COVID-19-master/who_covid_19_situation_reports/who_covid_19_sit_rep_pdfs/20200203-sitrep-14-ncov.pdf  [binary]\n",
      "  inflating: COVID-19-master/who_covid_19_situation_reports/who_covid_19_sit_rep_pdfs/20200204-sitrep-15-ncov.pdf  [binary]\n",
      "  inflating: COVID-19-master/who_covid_19_situation_reports/who_covid_19_sit_rep_pdfs/20200205-sitrep-16-ncov.pdf  [binary]\n",
      "  inflating: COVID-19-master/who_covid_19_situation_reports/who_covid_19_sit_rep_pdfs/20200206-sitrep-17-ncov.pdf  [binary]\n",
      "  inflating: COVID-19-master/who_covid_19_situation_reports/who_covid_19_sit_rep_pdfs/20200207-sitrep-18-ncov.pdf  [binary]\n",
      "  inflating: COVID-19-master/who_covid_19_situation_reports/who_covid_19_sit_rep_pdfs/20200208-sitrep-19-ncov.pdf  [binary]\n",
      "  inflating: COVID-19-master/who_covid_19_situation_reports/who_covid_19_sit_rep_pdfs/20200209-sitrep-20-ncov.pdf  [binary]\n",
      "  inflating: COVID-19-master/who_covid_19_situation_reports/who_covid_19_sit_rep_pdfs/20200210-sitrep-21-ncov.pdf  [binary]\n",
      "  inflating: COVID-19-master/who_covid_19_situation_reports/who_covid_19_sit_rep_pdfs/20200211-sitrep-22-ncov.pdf  [binary]\n",
      "  inflating: COVID-19-master/who_covid_19_situation_reports/who_covid_19_sit_rep_pdfs/20200212-sitrep-23-ncov.pdf  [binary]\n",
      "  inflating: COVID-19-master/who_covid_19_situation_reports/who_covid_19_sit_rep_pdfs/20200213-sitrep-24-covid-19.pdf  [binary]\n",
      "  inflating: COVID-19-master/who_covid_19_situation_reports/who_covid_19_sit_rep_pdfs/20200214-sitrep-25-covid-19.pdf  [binary]\n",
      "  inflating: COVID-19-master/who_covid_19_situation_reports/who_covid_19_sit_rep_pdfs/20200215-sitrep-26-covid-19.pdf  [binary]\n",
      "  inflating: COVID-19-master/who_covid_19_situation_reports/who_covid_19_sit_rep_pdfs/20200216-sitrep-27-covid-19.pdf  [binary]\n",
      "  inflating: COVID-19-master/who_covid_19_situation_reports/who_covid_19_sit_rep_pdfs/20200217-sitrep-28-covid-19.pdf  [binary]\n",
      "  inflating: COVID-19-master/who_covid_19_situation_reports/who_covid_19_sit_rep_pdfs/20200218-sitrep-29-covid-19.pdf  [binary]\n",
      "  inflating: COVID-19-master/who_covid_19_situation_reports/who_covid_19_sit_rep_pdfs/20200219-sitrep-30-covid-19.pdf  [binary]\n",
      "  inflating: COVID-19-master/who_covid_19_situation_reports/who_covid_19_sit_rep_pdfs/20200220-sitrep-31-covid-19.pdf  [binary]\n",
      "  inflating: COVID-19-master/who_covid_19_situation_reports/who_covid_19_sit_rep_pdfs/20200221-sitrep-32-covid-19.pdf  [binary]\n",
      "  inflating: COVID-19-master/who_covid_19_situation_reports/who_covid_19_sit_rep_pdfs/20200222-sitrep-33-covid-19.pdf  [binary]\n",
      "  inflating: COVID-19-master/who_covid_19_situation_reports/who_covid_19_sit_rep_pdfs/20200223-sitrep-34-covid-19.pdf  [binary]\n",
      "  inflating: COVID-19-master/who_covid_19_situation_reports/who_covid_19_sit_rep_pdfs/20200224-sitrep-35-covid-19.pdf  [binary]\n",
      "  inflating: COVID-19-master/who_covid_19_situation_reports/who_covid_19_sit_rep_pdfs/20200225-sitrep-36-covid-19.pdf  [binary]\n",
      "  inflating: COVID-19-master/who_covid_19_situation_reports/who_covid_19_sit_rep_pdfs/20200226-sitrep-37-covid-19.pdf  [binary]\n",
      "  inflating: COVID-19-master/who_covid_19_situation_reports/who_covid_19_sit_rep_pdfs/20200227-sitrep-38-covid-19.pdf  [binary]\n",
      "  inflating: COVID-19-master/who_covid_19_situation_reports/who_covid_19_sit_rep_pdfs/20200228-sitrep-39-covid-19.pdf  [binary]\n",
      "  inflating: COVID-19-master/who_covid_19_situation_reports/who_covid_19_sit_rep_pdfs/20200229-sitrep-40-covid-19.pdf  [binary]\n",
      "  inflating: COVID-19-master/who_covid_19_situation_reports/who_covid_19_sit_rep_pdfs/20200301-sitrep-41-covid-19.pdf  [binary]\n",
      "  inflating: COVID-19-master/who_covid_19_situation_reports/who_covid_19_sit_rep_pdfs/20200302-sitrep-42-covid-19.pdf  [binary]\n",
      "  inflating: COVID-19-master/who_covid_19_situation_reports/who_covid_19_sit_rep_pdfs/20200303-sitrep-43-covid-19.pdf  [binary]\n",
      "  inflating: COVID-19-master/who_covid_19_situation_reports/who_covid_19_sit_rep_pdfs/20200304-sitrep-44-covid-19.pdf  [binary]\n",
      "  inflating: COVID-19-master/who_covid_19_situation_reports/who_covid_19_sit_rep_pdfs/20200305-sitrep-45-covid-19.pdf  [binary]\n",
      "  inflating: COVID-19-master/who_covid_19_situation_reports/who_covid_19_sit_rep_pdfs/20200306-sitrep-46-covid-19.pdf  [binary]\n",
      "  inflating: COVID-19-master/who_covid_19_situation_reports/who_covid_19_sit_rep_pdfs/20200307-sitrep-47-covid-19.pdf  [binary]\n",
      "  inflating: COVID-19-master/who_covid_19_situation_reports/who_covid_19_sit_rep_pdfs/20200308-sitrep-48-covid-19.pdf  [binary]\n",
      "  inflating: COVID-19-master/who_covid_19_situation_reports/who_covid_19_sit_rep_pdfs/20200309-sitrep-49-covid-19.pdf  [binary]\n",
      "  inflating: COVID-19-master/who_covid_19_situation_reports/who_covid_19_sit_rep_pdfs/20200310-sitrep-50-covid-19.pdf  [binary]\n",
      "   creating: COVID-19-master/who_covid_19_situation_reports/who_covid_19_sit_rep_time_series/\n",
      "  inflating: COVID-19-master/who_covid_19_situation_reports/who_covid_19_sit_rep_time_series/who_covid_19_sit_rep_time_series.csv  [text]  \n"
     ]
    }
   ],
   "source": [
    "!unzip -au /tmp/master.zip -d /tmp/"
   ]
  },
  {
   "cell_type": "code",
   "execution_count": 14,
   "metadata": {
    "scrolled": true
   },
   "outputs": [
    {
     "name": "stdout",
     "output_type": "stream",
     "text": [
      "    39 /tmp/COVID-19-master/csse_covid_19_data/csse_covid_19_daily_reports/01-22-2020.csv\n",
      "    46 /tmp/COVID-19-master/csse_covid_19_data/csse_covid_19_daily_reports/01-23-2020.csv\n",
      "    41 /tmp/COVID-19-master/csse_covid_19_data/csse_covid_19_daily_reports/01-24-2020.csv\n",
      "    44 /tmp/COVID-19-master/csse_covid_19_data/csse_covid_19_daily_reports/01-25-2020.csv\n",
      "    47 /tmp/COVID-19-master/csse_covid_19_data/csse_covid_19_daily_reports/01-26-2020.csv\n",
      "    51 /tmp/COVID-19-master/csse_covid_19_data/csse_covid_19_daily_reports/01-27-2020.csv\n",
      "    52 /tmp/COVID-19-master/csse_covid_19_data/csse_covid_19_daily_reports/01-28-2020.csv\n",
      "    54 /tmp/COVID-19-master/csse_covid_19_data/csse_covid_19_daily_reports/01-29-2020.csv\n",
      "    58 /tmp/COVID-19-master/csse_covid_19_data/csse_covid_19_daily_reports/01-30-2020.csv\n",
      "    63 /tmp/COVID-19-master/csse_covid_19_data/csse_covid_19_daily_reports/01-31-2020.csv\n",
      "    68 /tmp/COVID-19-master/csse_covid_19_data/csse_covid_19_daily_reports/02-01-2020.csv\n",
      "    68 /tmp/COVID-19-master/csse_covid_19_data/csse_covid_19_daily_reports/02-02-2020.csv\n",
      "    69 /tmp/COVID-19-master/csse_covid_19_data/csse_covid_19_daily_reports/02-03-2020.csv\n",
      "    71 /tmp/COVID-19-master/csse_covid_19_data/csse_covid_19_daily_reports/02-04-2020.csv\n",
      "    72 /tmp/COVID-19-master/csse_covid_19_data/csse_covid_19_daily_reports/02-05-2020.csv\n",
      "    72 /tmp/COVID-19-master/csse_covid_19_data/csse_covid_19_daily_reports/02-06-2020.csv\n",
      "    73 /tmp/COVID-19-master/csse_covid_19_data/csse_covid_19_daily_reports/02-07-2020.csv\n",
      "    73 /tmp/COVID-19-master/csse_covid_19_data/csse_covid_19_daily_reports/02-08-2020.csv\n",
      "    73 /tmp/COVID-19-master/csse_covid_19_data/csse_covid_19_daily_reports/02-09-2020.csv\n",
      "    73 /tmp/COVID-19-master/csse_covid_19_data/csse_covid_19_daily_reports/02-10-2020.csv\n",
      "    74 /tmp/COVID-19-master/csse_covid_19_data/csse_covid_19_daily_reports/02-11-2020.csv\n",
      "    74 /tmp/COVID-19-master/csse_covid_19_data/csse_covid_19_daily_reports/02-12-2020.csv\n",
      "    75 /tmp/COVID-19-master/csse_covid_19_data/csse_covid_19_daily_reports/02-13-2020.csv\n",
      "    76 /tmp/COVID-19-master/csse_covid_19_data/csse_covid_19_daily_reports/02-14-2020.csv\n",
      "    76 /tmp/COVID-19-master/csse_covid_19_data/csse_covid_19_daily_reports/02-15-2020.csv\n",
      "    76 /tmp/COVID-19-master/csse_covid_19_data/csse_covid_19_daily_reports/02-16-2020.csv\n",
      "    75 /tmp/COVID-19-master/csse_covid_19_data/csse_covid_19_daily_reports/02-17-2020.csv\n",
      "    75 /tmp/COVID-19-master/csse_covid_19_data/csse_covid_19_daily_reports/02-18-2020.csv\n",
      "    77 /tmp/COVID-19-master/csse_covid_19_data/csse_covid_19_daily_reports/02-19-2020.csv\n",
      "    77 /tmp/COVID-19-master/csse_covid_19_data/csse_covid_19_daily_reports/02-20-2020.csv\n",
      "    85 /tmp/COVID-19-master/csse_covid_19_data/csse_covid_19_daily_reports/02-21-2020.csv\n",
      "    85 /tmp/COVID-19-master/csse_covid_19_data/csse_covid_19_daily_reports/02-22-2020.csv\n",
      "    86 /tmp/COVID-19-master/csse_covid_19_data/csse_covid_19_daily_reports/02-23-2020.csv\n",
      "    91 /tmp/COVID-19-master/csse_covid_19_data/csse_covid_19_daily_reports/02-24-2020.csv\n",
      "    95 /tmp/COVID-19-master/csse_covid_19_data/csse_covid_19_daily_reports/02-25-2020.csv\n",
      "   102 /tmp/COVID-19-master/csse_covid_19_data/csse_covid_19_daily_reports/02-26-2020.csv\n",
      "   106 /tmp/COVID-19-master/csse_covid_19_data/csse_covid_19_daily_reports/02-27-2020.csv\n",
      "   115 /tmp/COVID-19-master/csse_covid_19_data/csse_covid_19_daily_reports/02-28-2020.csv\n",
      "   120 /tmp/COVID-19-master/csse_covid_19_data/csse_covid_19_daily_reports/02-29-2020.csv\n",
      "   126 /tmp/COVID-19-master/csse_covid_19_data/csse_covid_19_daily_reports/03-01-2020.csv\n",
      "   142 /tmp/COVID-19-master/csse_covid_19_data/csse_covid_19_daily_reports/03-02-2020.csv\n",
      "   152 /tmp/COVID-19-master/csse_covid_19_data/csse_covid_19_daily_reports/03-03-2020.csv\n",
      "   161 /tmp/COVID-19-master/csse_covid_19_data/csse_covid_19_daily_reports/03-04-2020.csv\n",
      "   174 /tmp/COVID-19-master/csse_covid_19_data/csse_covid_19_daily_reports/03-05-2020.csv\n",
      "   200 /tmp/COVID-19-master/csse_covid_19_data/csse_covid_19_daily_reports/03-06-2020.csv\n",
      "   226 /tmp/COVID-19-master/csse_covid_19_data/csse_covid_19_daily_reports/03-07-2020.csv\n",
      "   256 /tmp/COVID-19-master/csse_covid_19_data/csse_covid_19_daily_reports/03-08-2020.csv\n",
      "   267 /tmp/COVID-19-master/csse_covid_19_data/csse_covid_19_daily_reports/03-09-2020.csv\n",
      "   207 /tmp/COVID-19-master/csse_covid_19_data/csse_covid_19_daily_reports/03-10-2020.csv\n",
      "   217 /tmp/COVID-19-master/csse_covid_19_data/csse_covid_19_daily_reports/03-11-2020.csv\n",
      "   219 /tmp/COVID-19-master/csse_covid_19_data/csse_covid_19_daily_reports/03-12-2020.csv\n",
      "   230 /tmp/COVID-19-master/csse_covid_19_data/csse_covid_19_daily_reports/03-13-2020.csv\n",
      "   250 /tmp/COVID-19-master/csse_covid_19_data/csse_covid_19_daily_reports/03-14-2020.csv\n",
      "   258 /tmp/COVID-19-master/csse_covid_19_data/csse_covid_19_daily_reports/03-15-2020.csv\n",
      "   273 /tmp/COVID-19-master/csse_covid_19_data/csse_covid_19_daily_reports/03-16-2020.csv\n",
      "   277 /tmp/COVID-19-master/csse_covid_19_data/csse_covid_19_daily_reports/03-17-2020.csv\n",
      "   285 /tmp/COVID-19-master/csse_covid_19_data/csse_covid_19_daily_reports/03-18-2020.csv\n",
      "   293 /tmp/COVID-19-master/csse_covid_19_data/csse_covid_19_daily_reports/03-19-2020.csv\n",
      "   300 /tmp/COVID-19-master/csse_covid_19_data/csse_covid_19_daily_reports/03-20-2020.csv\n",
      "  7360 total\n"
     ]
    }
   ],
   "source": [
    "!wc -l /tmp/COVID-19-master/csse_covid_19_data/csse_covid_19_daily_reports/*.csv"
   ]
  },
  {
   "cell_type": "code",
   "execution_count": 15,
   "metadata": {},
   "outputs": [],
   "source": [
    "spark = SparkSession.builder.enableHiveSupport().config('spark.sql.repl.eagerEval.enabled', 'true').getOrCreate()"
   ]
  },
  {
   "cell_type": "code",
   "execution_count": 17,
   "metadata": {},
   "outputs": [],
   "source": [
    "df = spark.read.csv('/tmp/COVID-19-master/csse_covid_19_data/csse_covid_19_daily_reports/*.csv', header=True, inferSchema=True)"
   ]
  },
  {
   "cell_type": "code",
   "execution_count": 18,
   "metadata": {},
   "outputs": [
    {
     "data": {
      "text/plain": [
       "7313"
      ]
     },
     "execution_count": 18,
     "metadata": {},
     "output_type": "execute_result"
    }
   ],
   "source": [
    "df.count()"
   ]
  },
  {
   "cell_type": "code",
   "execution_count": 19,
   "metadata": {},
   "outputs": [
    {
     "data": {
      "text/html": [
       "<table border='1'>\n",
       "<tr><th>summary</th><th>Province/State</th><th>Country/Region</th><th>Last Update</th><th>Confirmed</th><th>Deaths</th><th>Recovered</th><th>Latitude</th><th>Longitude</th></tr>\n",
       "<tr><td>count</td><td>4223</td><td>7313</td><td>7313</td><td>7294</td><td>6872</td><td>6925</td><td>4495</td><td>4495</td></tr>\n",
       "<tr><td>mean</td><td>null</td><td>null</td><td>null</td><td>624.639292569235</td><td>22.502473806752036</td><td>244.5965342960289</td><td>29.403727522580613</td><td>6.430977051167968</td></tr>\n",
       "<tr><td>stddev</td><td>null</td><td>null</td><td>null</td><td>4920.635211307718</td><td>220.3237638159897</td><td>2706.597705216855</td><td>21.80267760767331</td><td>85.04737183882683</td></tr>\n",
       "<tr><td>min</td><td> Montreal, QC</td><td> Azerbaijan</td><td>1/22/2020 17:00</td><td>0</td><td>0</td><td>0</td><td>-41.4545</td><td>-157.8584</td></tr>\n",
       "<tr><td>25%</td><td>null</td><td>null</td><td>null</td><td>2.0</td><td>0.0</td><td>0.0</td><td>21.4735</td><td>-75.2479</td></tr>\n",
       "<tr><td>50%</td><td>null</td><td>null</td><td>null</td><td>15.0</td><td>0.0</td><td>1.0</td><td>35.4437</td><td>12.0</td></tr>\n",
       "<tr><td>75%</td><td>null</td><td>null</td><td>null</td><td>121.0</td><td>1.0</td><td>12.0</td><td>42.9849</td><td>90.3563</td></tr>\n",
       "<tr><td>max</td><td>Zhejiang</td><td>occupied Palestin...</td><td>2020-03-20T23:43:03</td><td>996</td><td>988</td><td>999</td><td>72.0</td><td>178.065</td></tr>\n",
       "</table>\n"
      ],
      "text/plain": [
       "+-------+--------------+--------------------+-------------------+-----------------+------------------+-----------------+------------------+-----------------+\n",
       "|summary|Province/State|      Country/Region|        Last Update|        Confirmed|            Deaths|        Recovered|          Latitude|        Longitude|\n",
       "+-------+--------------+--------------------+-------------------+-----------------+------------------+-----------------+------------------+-----------------+\n",
       "|  count|          4223|                7313|               7313|             7294|              6872|             6925|              4495|             4495|\n",
       "|   mean|          null|                null|               null| 624.639292569235|22.502473806752036|244.5965342960289|29.403727522580613|6.430977051167968|\n",
       "| stddev|          null|                null|               null|4920.635211307718| 220.3237638159897|2706.597705216855| 21.80267760767331|85.04737183882683|\n",
       "|    min|  Montreal, QC|          Azerbaijan|    1/22/2020 17:00|                0|                 0|                0|          -41.4545|        -157.8584|\n",
       "|    25%|          null|                null|               null|              2.0|               0.0|              0.0|           21.4735|         -75.2479|\n",
       "|    50%|          null|                null|               null|             15.0|               0.0|              1.0|           35.4437|             12.0|\n",
       "|    75%|          null|                null|               null|            121.0|               1.0|             12.0|           42.9849|          90.3563|\n",
       "|    max|      Zhejiang|occupied Palestin...|2020-03-20T23:43:03|              996|               988|              999|              72.0|          178.065|\n",
       "+-------+--------------+--------------------+-------------------+-----------------+------------------+-----------------+------------------+-----------------+"
      ]
     },
     "execution_count": 19,
     "metadata": {},
     "output_type": "execute_result"
    }
   ],
   "source": [
    "df.summary()"
   ]
  },
  {
   "cell_type": "code",
   "execution_count": 20,
   "metadata": {},
   "outputs": [],
   "source": [
    "df = df.select(\n",
    "    to_timestamp(trim(df['Last Update'])).alias('Last Update'),\n",
    "    trim(df['Country/Region']).alias('Country/Region'),\n",
    "    trim(df['Province/State']).alias('Province/State'),\n",
    "    df.Confirmed.cast('INT'),\n",
    "    df.Recovered.cast('INT'),\n",
    "    df.Deaths.cast('INT'),\n",
    "    df.Latitude.cast('DOUBLE'),\n",
    "    df.Longitude.cast('DOUBLE'),\n",
    "    input_file_name()\n",
    ")"
   ]
  },
  {
   "cell_type": "code",
   "execution_count": 22,
   "metadata": {},
   "outputs": [
    {
     "data": {
      "text/html": [
       "<table border='1'>\n",
       "<tr><th>summary</th><th>Country/Region</th><th>Province/State</th><th>Confirmed</th><th>Recovered</th><th>Deaths</th><th>Latitude</th><th>Longitude</th><th>input_file_name()</th></tr>\n",
       "<tr><td>count</td><td>7313</td><td>4223</td><td>7294</td><td>6925</td><td>6872</td><td>4495</td><td>4495</td><td>7313</td></tr>\n",
       "<tr><td>mean</td><td>null</td><td>null</td><td>624.639292569235</td><td>244.5965342960289</td><td>22.502473806752036</td><td>29.403727522580613</td><td>6.430977051167968</td><td>null</td></tr>\n",
       "<tr><td>stddev</td><td>null</td><td>null</td><td>4920.635211307718</td><td>2706.597705216855</td><td>220.3237638159897</td><td>21.80267760767331</td><td>85.04737183882683</td><td>null</td></tr>\n",
       "<tr><td>min</td><td>Afghanistan</td><td>Alabama</td><td>0</td><td>0</td><td>0</td><td>-41.4545</td><td>-157.8584</td><td>file:/tmp/COVID-1...</td></tr>\n",
       "<tr><td>25%</td><td>null</td><td>null</td><td>2</td><td>0</td><td>0</td><td>21.4735</td><td>-75.2479</td><td>null</td></tr>\n",
       "<tr><td>50%</td><td>null</td><td>null</td><td>15</td><td>1</td><td>0</td><td>35.4437</td><td>12.0</td><td>null</td></tr>\n",
       "<tr><td>75%</td><td>null</td><td>null</td><td>121</td><td>12</td><td>1</td><td>42.9849</td><td>90.3563</td><td>null</td></tr>\n",
       "<tr><td>max</td><td>occupied Palestin...</td><td>Zhejiang</td><td>67800</td><td>58382</td><td>4032</td><td>72.0</td><td>178.065</td><td>file:/tmp/COVID-1...</td></tr>\n",
       "</table>\n"
      ],
      "text/plain": [
       "+-------+--------------------+--------------+-----------------+-----------------+------------------+------------------+-----------------+--------------------+\n",
       "|summary|      Country/Region|Province/State|        Confirmed|        Recovered|            Deaths|          Latitude|        Longitude|   input_file_name()|\n",
       "+-------+--------------------+--------------+-----------------+-----------------+------------------+------------------+-----------------+--------------------+\n",
       "|  count|                7313|          4223|             7294|             6925|              6872|              4495|             4495|                7313|\n",
       "|   mean|                null|          null| 624.639292569235|244.5965342960289|22.502473806752036|29.403727522580613|6.430977051167968|                null|\n",
       "| stddev|                null|          null|4920.635211307718|2706.597705216855| 220.3237638159897| 21.80267760767331|85.04737183882683|                null|\n",
       "|    min|         Afghanistan|       Alabama|                0|                0|                 0|          -41.4545|        -157.8584|file:/tmp/COVID-1...|\n",
       "|    25%|                null|          null|                2|                0|                 0|           21.4735|         -75.2479|                null|\n",
       "|    50%|                null|          null|               15|                1|                 0|           35.4437|             12.0|                null|\n",
       "|    75%|                null|          null|              121|               12|                 1|           42.9849|          90.3563|                null|\n",
       "|    max|occupied Palestin...|      Zhejiang|            67800|            58382|              4032|              72.0|          178.065|file:/tmp/COVID-1...|\n",
       "+-------+--------------------+--------------+-----------------+-----------------+------------------+------------------+-----------------+--------------------+"
      ]
     },
     "execution_count": 22,
     "metadata": {},
     "output_type": "execute_result"
    }
   ],
   "source": [
    "df.summary()"
   ]
  },
  {
   "cell_type": "code",
   "execution_count": 33,
   "metadata": {},
   "outputs": [
    {
     "data": {
      "text/html": [
       "<table border='1'>\n",
       "<tr><th>Date</th><th>sum(Confirmed)</th><th>sum(Deaths)</th><th>sum(Recovered)</th></tr>\n",
       "<tr><td>2020-03-18</td><td>204744</td><td>8650</td><td>74324</td></tr>\n",
       "<tr><td>2020-03-17</td><td>191145</td><td>7839</td><td>75441</td></tr>\n",
       "<tr><td>2020-03-16</td><td>173820</td><td>7079</td><td>71990</td></tr>\n",
       "<tr><td>2020-03-15</td><td>137830</td><td>4542</td><td>70653</td></tr>\n",
       "<tr><td>2020-03-14</td><td>189820</td><td>7769</td><td>81023</td></tr>\n",
       "<tr><td>2020-03-13</td><td>82082</td><td>3199</td><td>63351</td></tr>\n",
       "<tr><td>2020-03-12</td><td>114685</td><td>3810</td><td>72041</td></tr>\n",
       "<tr><td>2020-03-11</td><td>221994</td><td>7874</td><td>87629</td></tr>\n",
       "<tr><td>2020-03-10</td><td>114542</td><td>4207</td><td>60893</td></tr>\n",
       "<tr><td>2020-03-09</td><td>108042</td><td>3920</td><td>58658</td></tr>\n",
       "<tr><td>2020-03-08</td><td>113842</td><td>3881</td><td>64907</td></tr>\n",
       "<tr><td>2020-03-07</td><td>105073</td><td>3553</td><td>58197</td></tr>\n",
       "<tr><td>2020-03-06</td><td>106265</td><td>3489</td><td>57671</td></tr>\n",
       "<tr><td>2020-03-05</td><td>97461</td><td>3350</td><td>54137</td></tr>\n",
       "<tr><td>2020-03-04</td><td>93967</td><td>3248</td><td>50728</td></tr>\n",
       "<tr><td>2020-03-03</td><td>94704</td><td>3176</td><td>48707</td></tr>\n",
       "<tr><td>2020-03-02</td><td>91481</td><td>3091</td><td>46201</td></tr>\n",
       "<tr><td>2020-03-01</td><td>87613</td><td>2994</td><td>42695</td></tr>\n",
       "<tr><td>2020-02-29</td><td>86502</td><td>2942</td><td>39634</td></tr>\n",
       "<tr><td>2020-02-28</td><td>83702</td><td>2867</td><td>36268</td></tr>\n",
       "</table>\n",
       "only showing top 20 rows\n"
      ],
      "text/plain": [
       "+----------+--------------+-----------+--------------+\n",
       "|      Date|sum(Confirmed)|sum(Deaths)|sum(Recovered)|\n",
       "+----------+--------------+-----------+--------------+\n",
       "|2020-03-18|        204744|       8650|         74324|\n",
       "|2020-03-17|        191145|       7839|         75441|\n",
       "|2020-03-16|        173820|       7079|         71990|\n",
       "|2020-03-15|        137830|       4542|         70653|\n",
       "|2020-03-14|        189820|       7769|         81023|\n",
       "|2020-03-13|         82082|       3199|         63351|\n",
       "|2020-03-12|        114685|       3810|         72041|\n",
       "|2020-03-11|        221994|       7874|         87629|\n",
       "|2020-03-10|        114542|       4207|         60893|\n",
       "|2020-03-09|        108042|       3920|         58658|\n",
       "|2020-03-08|        113842|       3881|         64907|\n",
       "|2020-03-07|        105073|       3553|         58197|\n",
       "|2020-03-06|        106265|       3489|         57671|\n",
       "|2020-03-05|         97461|       3350|         54137|\n",
       "|2020-03-04|         93967|       3248|         50728|\n",
       "|2020-03-03|         94704|       3176|         48707|\n",
       "|2020-03-02|         91481|       3091|         46201|\n",
       "|2020-03-01|         87613|       2994|         42695|\n",
       "|2020-02-29|         86502|       2942|         39634|\n",
       "|2020-02-28|         83702|       2867|         36268|\n",
       "+----------+--------------+-----------+--------------+\n",
       "only showing top 20 rows"
      ]
     },
     "execution_count": 33,
     "metadata": {},
     "output_type": "execute_result"
    }
   ],
   "source": [
    "df.select(to_date('Last Update').alias('Date'), '*').orderBy(desc_nulls_last('Date')).groupby('Date').sum()"
   ]
  },
  {
   "cell_type": "code",
   "execution_count": 34,
   "metadata": {},
   "outputs": [],
   "source": [
    "df = df.withColumn('Active', df.Confirmed - (df.Recovered + df.Deaths))"
   ]
  },
  {
   "cell_type": "code",
   "execution_count": 35,
   "metadata": {},
   "outputs": [],
   "source": [
    "df = df.withColumn('Date', to_date(df['Last Update'])).orderBy(desc_nulls_last('Date'))"
   ]
  },
  {
   "cell_type": "code",
   "execution_count": 36,
   "metadata": {},
   "outputs": [
    {
     "data": {
      "text/html": [
       "<table border='1'>\n",
       "<tr><th>Date</th><th>sum(Confirmed)</th><th>sum(Deaths)</th><th>sum(Recovered)</th><th>sum(Active)</th></tr>\n",
       "<tr><td>2020-03-18</td><td>204744</td><td>8650</td><td>74324</td><td>121770</td></tr>\n",
       "<tr><td>2020-03-17</td><td>191145</td><td>7839</td><td>75441</td><td>107865</td></tr>\n",
       "<tr><td>2020-03-16</td><td>173820</td><td>7079</td><td>71990</td><td>94751</td></tr>\n",
       "<tr><td>2020-03-15</td><td>137830</td><td>4542</td><td>70653</td><td>62635</td></tr>\n",
       "<tr><td>2020-03-14</td><td>189820</td><td>7769</td><td>81023</td><td>101028</td></tr>\n",
       "<tr><td>2020-03-13</td><td>82082</td><td>3199</td><td>63351</td><td>15532</td></tr>\n",
       "<tr><td>2020-03-12</td><td>114685</td><td>3810</td><td>72041</td><td>38834</td></tr>\n",
       "<tr><td>2020-03-11</td><td>221994</td><td>7874</td><td>87629</td><td>126491</td></tr>\n",
       "<tr><td>2020-03-10</td><td>114542</td><td>4207</td><td>60893</td><td>49442</td></tr>\n",
       "<tr><td>2020-03-09</td><td>108042</td><td>3920</td><td>58658</td><td>45464</td></tr>\n",
       "<tr><td>2020-03-08</td><td>113842</td><td>3881</td><td>64907</td><td>45054</td></tr>\n",
       "<tr><td>2020-03-07</td><td>105073</td><td>3553</td><td>58197</td><td>43323</td></tr>\n",
       "<tr><td>2020-03-06</td><td>106265</td><td>3489</td><td>57671</td><td>45105</td></tr>\n",
       "<tr><td>2020-03-05</td><td>97461</td><td>3350</td><td>54137</td><td>39974</td></tr>\n",
       "<tr><td>2020-03-04</td><td>93967</td><td>3248</td><td>50728</td><td>39991</td></tr>\n",
       "<tr><td>2020-03-03</td><td>94704</td><td>3176</td><td>48707</td><td>42821</td></tr>\n",
       "<tr><td>2020-03-02</td><td>91481</td><td>3091</td><td>46201</td><td>42189</td></tr>\n",
       "<tr><td>2020-03-01</td><td>87613</td><td>2994</td><td>42695</td><td>41924</td></tr>\n",
       "<tr><td>2020-02-29</td><td>86502</td><td>2942</td><td>39634</td><td>43926</td></tr>\n",
       "<tr><td>2020-02-28</td><td>83702</td><td>2867</td><td>36268</td><td>44567</td></tr>\n",
       "</table>\n",
       "only showing top 20 rows\n"
      ],
      "text/plain": [
       "+----------+--------------+-----------+--------------+-----------+\n",
       "|      Date|sum(Confirmed)|sum(Deaths)|sum(Recovered)|sum(Active)|\n",
       "+----------+--------------+-----------+--------------+-----------+\n",
       "|2020-03-18|        204744|       8650|         74324|     121770|\n",
       "|2020-03-17|        191145|       7839|         75441|     107865|\n",
       "|2020-03-16|        173820|       7079|         71990|      94751|\n",
       "|2020-03-15|        137830|       4542|         70653|      62635|\n",
       "|2020-03-14|        189820|       7769|         81023|     101028|\n",
       "|2020-03-13|         82082|       3199|         63351|      15532|\n",
       "|2020-03-12|        114685|       3810|         72041|      38834|\n",
       "|2020-03-11|        221994|       7874|         87629|     126491|\n",
       "|2020-03-10|        114542|       4207|         60893|      49442|\n",
       "|2020-03-09|        108042|       3920|         58658|      45464|\n",
       "|2020-03-08|        113842|       3881|         64907|      45054|\n",
       "|2020-03-07|        105073|       3553|         58197|      43323|\n",
       "|2020-03-06|        106265|       3489|         57671|      45105|\n",
       "|2020-03-05|         97461|       3350|         54137|      39974|\n",
       "|2020-03-04|         93967|       3248|         50728|      39991|\n",
       "|2020-03-03|         94704|       3176|         48707|      42821|\n",
       "|2020-03-02|         91481|       3091|         46201|      42189|\n",
       "|2020-03-01|         87613|       2994|         42695|      41924|\n",
       "|2020-02-29|         86502|       2942|         39634|      43926|\n",
       "|2020-02-28|         83702|       2867|         36268|      44567|\n",
       "+----------+--------------+-----------+--------------+-----------+\n",
       "only showing top 20 rows"
      ]
     },
     "execution_count": 36,
     "metadata": {},
     "output_type": "execute_result"
    }
   ],
   "source": [
    "df.groupby('Date').sum()"
   ]
  },
  {
   "cell_type": "code",
   "execution_count": 37,
   "metadata": {},
   "outputs": [
    {
     "data": {
      "text/html": [
       "<table border='1'>\n",
       "<tr><th>Country/Region</th><th>sum(Confirmed)</th><th>sum(Deaths)</th><th>sum(Recovered)</th><th>sum(Active)</th></tr>\n",
       "<tr><td>Russia</td><td>697</td><td>0</td><td>105</td><td>592</td></tr>\n",
       "<tr><td>Paraguay</td><td>59</td><td>0</td><td>0</td><td>59</td></tr>\n",
       "<tr><td>North Ireland</td><td>1</td><td>0</td><td>0</td><td>1</td></tr>\n",
       "<tr><td>Senegal</td><td>164</td><td>0</td><td>14</td><td>150</td></tr>\n",
       "<tr><td>Sweden</td><td>8767</td><td>31</td><td>10</td><td>8726</td></tr>\n",
       "<tr><td>Republic of Korea</td><td>7513</td><td>54</td><td>247</td><td>7212</td></tr>\n",
       "<tr><td>Guyana</td><td>25</td><td>7</td><td>0</td><td>18</td></tr>\n",
       "<tr><td>Philippines</td><td>1115</td><td>108</td><td>51</td><td>956</td></tr>\n",
       "<tr><td>Jersey</td><td>6</td><td>0</td><td>0</td><td>6</td></tr>\n",
       "<tr><td>Djibouti</td><td>1</td><td>0</td><td>0</td><td>1</td></tr>\n",
       "<tr><td>Malaysia</td><td>4426</td><td>4</td><td>758</td><td>3664</td></tr>\n",
       "<tr><td>Singapore</td><td>4874</td><td>0</td><td>2316</td><td>2558</td></tr>\n",
       "<tr><td>Turkey</td><td>181</td><td>2</td><td>0</td><td>179</td></tr>\n",
       "<tr><td>Iraq</td><td>1377</td><td>107</td><td>219</td><td>1051</td></tr>\n",
       "<tr><td>Germany</td><td>53821</td><td>106</td><td>770</td><td>52945</td></tr>\n",
       "<tr><td>Cambodia</td><td>141</td><td>0</td><td>36</td><td>105</td></tr>\n",
       "<tr><td>Afghanistan</td><td>139</td><td>0</td><td>3</td><td>136</td></tr>\n",
       "<tr><td>Jordan</td><td>123</td><td>0</td><td>6</td><td>117</td></tr>\n",
       "<tr><td>Rwanda</td><td>22</td><td>0</td><td>0</td><td>22</td></tr>\n",
       "<tr><td>Maldives</td><td>101</td><td>0</td><td>0</td><td>101</td></tr>\n",
       "</table>\n",
       "only showing top 20 rows\n"
      ],
      "text/plain": [
       "+-----------------+--------------+-----------+--------------+-----------+\n",
       "|   Country/Region|sum(Confirmed)|sum(Deaths)|sum(Recovered)|sum(Active)|\n",
       "+-----------------+--------------+-----------+--------------+-----------+\n",
       "|           Russia|           697|          0|           105|        592|\n",
       "|         Paraguay|            59|          0|             0|         59|\n",
       "|    North Ireland|             1|          0|             0|          1|\n",
       "|          Senegal|           164|          0|            14|        150|\n",
       "|           Sweden|          8767|         31|            10|       8726|\n",
       "|Republic of Korea|          7513|         54|           247|       7212|\n",
       "|           Guyana|            25|          7|             0|         18|\n",
       "|      Philippines|          1115|        108|            51|        956|\n",
       "|           Jersey|             6|          0|             0|          6|\n",
       "|         Djibouti|             1|          0|             0|          1|\n",
       "|         Malaysia|          4426|          4|           758|       3664|\n",
       "|        Singapore|          4874|          0|          2316|       2558|\n",
       "|           Turkey|           181|          2|             0|        179|\n",
       "|             Iraq|          1377|        107|           219|       1051|\n",
       "|          Germany|         53821|        106|           770|      52945|\n",
       "|         Cambodia|           141|          0|            36|        105|\n",
       "|      Afghanistan|           139|          0|             3|        136|\n",
       "|           Jordan|           123|          0|             6|        117|\n",
       "|           Rwanda|            22|          0|             0|         22|\n",
       "|         Maldives|           101|          0|             0|        101|\n",
       "+-----------------+--------------+-----------+--------------+-----------+\n",
       "only showing top 20 rows"
      ]
     },
     "execution_count": 37,
     "metadata": {},
     "output_type": "execute_result"
    }
   ],
   "source": [
    "df.groupby('Country/Region').sum()"
   ]
  }
 ],
 "metadata": {
  "kernelspec": {
   "display_name": "Python 3",
   "language": "python",
   "name": "python3"
  },
  "language_info": {
   "codemirror_mode": {
    "name": "ipython",
    "version": 3
   },
   "file_extension": ".py",
   "mimetype": "text/x-python",
   "name": "python",
   "nbconvert_exporter": "python",
   "pygments_lexer": "ipython3",
   "version": "3.7.6"
  }
 },
 "nbformat": 4,
 "nbformat_minor": 4
}
