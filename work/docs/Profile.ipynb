{
 "cells": [
  {
   "cell_type": "code",
   "execution_count": 1,
   "metadata": {},
   "outputs": [],
   "source": [
    "from pyspark.sql import SparkSession\n",
    "from pyspark.sql.functions import *"
   ]
  },
  {
   "cell_type": "code",
   "execution_count": 2,
   "metadata": {},
   "outputs": [],
   "source": [
    "spark = SparkSession.builder.enableHiveSupport().config('spark.sql.repl.eagerEval.enabled', 'true').getOrCreate()"
   ]
  },
  {
   "cell_type": "code",
   "execution_count": 7,
   "metadata": {},
   "outputs": [],
   "source": []
  },
  {
   "cell_type": "code",
   "execution_count": 8,
   "metadata": {},
   "outputs": [
    {
     "data": {
      "text/html": [
       "<table border='1'>\n",
       "<tr><th>Hubei</th><th>China</th><th>2020-03-19T10:13:14</th><th>67800</th><th>3130</th><th>57682</th><th>30.9756</th><th>112.2707</th></tr>\n",
       "<tr><td>null</td><td>Italy</td><td>2020-03-19T17:43:03</td><td>41035</td><td>3405</td><td>4440</td><td>41.8719</td><td>12.5674</td></tr>\n",
       "<tr><td>null</td><td>Iran</td><td>2020-03-19T11:33:29</td><td>18407</td><td>1284</td><td>5710</td><td>32.4279</td><td>53.688</td></tr>\n",
       "<tr><td>null</td><td>Spain</td><td>2020-03-19T20:13:08</td><td>17963</td><td>830</td><td>1107</td><td>40.4637</td><td>-3.7492</td></tr>\n",
       "<tr><td>null</td><td>Germany</td><td>2020-03-19T20:13:08</td><td>15320</td><td>44</td><td>113</td><td>51.1657</td><td>10.4515</td></tr>\n",
       "<tr><td>France</td><td>France</td><td>2020-03-19T20:43:02</td><td>10871</td><td>243</td><td>12</td><td>46.2276</td><td>2.2137</td></tr>\n",
       "<tr><td>null</td><td>Korea, South</td><td>2020-03-19T02:13:17</td><td>8565</td><td>91</td><td>1540</td><td>35.9078</td><td>127.7669</td></tr>\n",
       "<tr><td>New York</td><td>US</td><td>2020-03-19T23:43:04</td><td>5365</td><td>34</td><td>0</td><td>42.1657</td><td>-74.9481</td></tr>\n",
       "<tr><td>null</td><td>Switzerland</td><td>2020-03-19T21:13:15</td><td>4075</td><td>41</td><td>15</td><td>46.8182</td><td>8.2275</td></tr>\n",
       "<tr><td>United Kingdom</td><td>United Kingdom</td><td>2020-03-19T17:13:27</td><td>2689</td><td>137</td><td>65</td><td>55.3781</td><td>-3.436</td></tr>\n",
       "<tr><td>Netherlands</td><td>Netherlands</td><td>2020-03-19T14:53:06</td><td>2460</td><td>76</td><td>2</td><td>52.1326</td><td>5.2913</td></tr>\n",
       "<tr><td>null</td><td>Austria</td><td>2020-03-19T14:53:05</td><td>2013</td><td>6</td><td>9</td><td>47.5162</td><td>14.5501</td></tr>\n",
       "<tr><td>null</td><td>Belgium</td><td>2020-03-19T11:13:17</td><td>1795</td><td>21</td><td>31</td><td>50.5039</td><td>4.4699</td></tr>\n",
       "<tr><td>null</td><td>Norway</td><td>2020-03-19T17:13:14</td><td>1746</td><td>7</td><td>1</td><td>60.472</td><td>8.4689</td></tr>\n",
       "<tr><td>null</td><td>Sweden</td><td>2020-03-19T15:13:27</td><td>1439</td><td>11</td><td>16</td><td>60.1282</td><td>18.6435</td></tr>\n",
       "<tr><td>Guangdong</td><td>China</td><td>2020-03-19T01:13:06</td><td>1378</td><td>8</td><td>1318</td><td>23.3417</td><td>113.4244</td></tr>\n",
       "<tr><td>Washington</td><td>US</td><td>2020-03-19T23:43:04</td><td>1376</td><td>74</td><td>0</td><td>47.4009</td><td>-121.4905</td></tr>\n",
       "<tr><td>Henan</td><td>China</td><td>2020-03-14T09:53:08</td><td>1273</td><td>22</td><td>1250</td><td>33.882</td><td>113.614</td></tr>\n",
       "<tr><td>Zhejiang</td><td>China</td><td>2020-03-19T10:13:14</td><td>1233</td><td>1</td><td>1217</td><td>29.1832</td><td>120.0934</td></tr>\n",
       "<tr><td>Denmark</td><td>Denmark</td><td>2020-03-19T17:13:42</td><td>1151</td><td>6</td><td>1</td><td>56.2639</td><td>9.5018</td></tr>\n",
       "<tr><td>Hunan</td><td>China</td><td>2020-03-14T08:33:03</td><td>1018</td><td>4</td><td>1014</td><td>27.6104</td><td>111.7088</td></tr>\n",
       "</table>\n",
       "only showing top 20 rows\n"
      ],
      "text/plain": [
       "+--------------+--------------+-------------------+-----+----+-----+-------+---------+\n",
       "|         Hubei|         China|2020-03-19T10:13:14|67800|3130|57682|30.9756| 112.2707|\n",
       "+--------------+--------------+-------------------+-----+----+-----+-------+---------+\n",
       "|          null|         Italy|2020-03-19T17:43:03|41035|3405| 4440|41.8719|  12.5674|\n",
       "|          null|          Iran|2020-03-19T11:33:29|18407|1284| 5710|32.4279|   53.688|\n",
       "|          null|         Spain|2020-03-19T20:13:08|17963| 830| 1107|40.4637|  -3.7492|\n",
       "|          null|       Germany|2020-03-19T20:13:08|15320|  44|  113|51.1657|  10.4515|\n",
       "|        France|        France|2020-03-19T20:43:02|10871| 243|   12|46.2276|   2.2137|\n",
       "|          null|  Korea, South|2020-03-19T02:13:17| 8565|  91| 1540|35.9078| 127.7669|\n",
       "|      New York|            US|2020-03-19T23:43:04| 5365|  34|    0|42.1657| -74.9481|\n",
       "|          null|   Switzerland|2020-03-19T21:13:15| 4075|  41|   15|46.8182|   8.2275|\n",
       "|United Kingdom|United Kingdom|2020-03-19T17:13:27| 2689| 137|   65|55.3781|   -3.436|\n",
       "|   Netherlands|   Netherlands|2020-03-19T14:53:06| 2460|  76|    2|52.1326|   5.2913|\n",
       "|          null|       Austria|2020-03-19T14:53:05| 2013|   6|    9|47.5162|  14.5501|\n",
       "|          null|       Belgium|2020-03-19T11:13:17| 1795|  21|   31|50.5039|   4.4699|\n",
       "|          null|        Norway|2020-03-19T17:13:14| 1746|   7|    1| 60.472|   8.4689|\n",
       "|          null|        Sweden|2020-03-19T15:13:27| 1439|  11|   16|60.1282|  18.6435|\n",
       "|     Guangdong|         China|2020-03-19T01:13:06| 1378|   8| 1318|23.3417| 113.4244|\n",
       "|    Washington|            US|2020-03-19T23:43:04| 1376|  74|    0|47.4009|-121.4905|\n",
       "|         Henan|         China|2020-03-14T09:53:08| 1273|  22| 1250| 33.882|  113.614|\n",
       "|      Zhejiang|         China|2020-03-19T10:13:14| 1233|   1| 1217|29.1832| 120.0934|\n",
       "|       Denmark|       Denmark|2020-03-19T17:13:42| 1151|   6|    1|56.2639|   9.5018|\n",
       "|         Hunan|         China|2020-03-14T08:33:03| 1018|   4| 1014|27.6104| 111.7088|\n",
       "+--------------+--------------+-------------------+-----+----+-----+-------+---------+\n",
       "only showing top 20 rows"
      ]
     },
     "execution_count": 8,
     "metadata": {},
     "output_type": "execute_result"
    }
   ],
   "source": [
    "df"
   ]
  },
  {
   "cell_type": "code",
   "execution_count": null,
   "metadata": {},
   "outputs": [],
   "source": []
  }
 ],
 "metadata": {
  "kernelspec": {
   "display_name": "Python 3",
   "language": "python",
   "name": "python3"
  },
  "language_info": {
   "codemirror_mode": {
    "name": "ipython",
    "version": 3
   },
   "file_extension": ".py",
   "mimetype": "text/x-python",
   "name": "python",
   "nbconvert_exporter": "python",
   "pygments_lexer": "ipython3",
   "version": "3.7.6"
  }
 },
 "nbformat": 4,
 "nbformat_minor": 4
}
