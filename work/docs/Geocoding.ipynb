{
 "cells": [
  {
   "cell_type": "code",
   "execution_count": 1,
   "metadata": {},
   "outputs": [],
   "source": [
    "import logging\n",
    "import re\n",
    "\n",
    "import pycountry\n",
    "from pyspark.sql import SparkSession\n",
    "from pyspark.sql.functions import *"
   ]
  },
  {
   "cell_type": "code",
   "execution_count": 2,
   "metadata": {},
   "outputs": [],
   "source": [
    "spark = SparkSession.builder.enableHiveSupport().config('spark.sql.repl.eagerEval.enabled', 'true').getOrCreate()"
   ]
  },
  {
   "cell_type": "code",
   "execution_count": 3,
   "metadata": {},
   "outputs": [],
   "source": [
    "df = spark.read.csv(\"./samples/output-files/csse_covid_19_daily_reports.csv\", header=True, inferSchema=True)"
   ]
  },
  {
   "cell_type": "code",
   "execution_count": 4,
   "metadata": {},
   "outputs": [
    {
     "data": {
      "text/plain": [
       "[('Last Update', 'timestamp'),\n",
       " ('Country/Region', 'string'),\n",
       " ('Province/State', 'string'),\n",
       " ('Confirmed', 'int'),\n",
       " ('Recovered', 'int'),\n",
       " ('Deaths', 'int'),\n",
       " ('Latitude', 'double'),\n",
       " ('Longitude', 'double'),\n",
       " ('input_file_name', 'string')]"
      ]
     },
     "execution_count": 4,
     "metadata": {},
     "output_type": "execute_result"
    }
   ],
   "source": [
    "df.dtypes"
   ]
  },
  {
   "cell_type": "code",
   "execution_count": 15,
   "metadata": {},
   "outputs": [],
   "source": [
    "def iso_country_udf(string: str, kind: str = 'alpha_3'):\n",
    "    unmatched = {}\n",
    "    alphaonly = re.findall(r'(\\w+)', string).pop()\n",
    "    for i in pycountry.countries:\n",
    "        if alphaonly in i.name or alphaonly in i.alpha_2:\n",
    "            return getattr(i, kind)"
   ]
  },
  {
   "cell_type": "code",
   "execution_count": 21,
   "metadata": {},
   "outputs": [],
   "source": [
    "to_iso_country = spark.udf.register('to_iso_country', iso_country_udf)"
   ]
  },
  {
   "cell_type": "code",
   "execution_count": 22,
   "metadata": {},
   "outputs": [],
   "source": [
    "df = df.withColumn('iso_country', to_iso_country(df['Country/Region']))"
   ]
  },
  {
   "cell_type": "code",
   "execution_count": 25,
   "metadata": {},
   "outputs": [
    {
     "data": {
      "text/plain": [
       "36"
      ]
     },
     "execution_count": 25,
     "metadata": {},
     "output_type": "execute_result"
    }
   ],
   "source": [
    "df.select(df['Country/Region']).distinct().count() - df.select(df['iso_country']).distinct().count()"
   ]
  },
  {
   "cell_type": "code",
   "execution_count": 26,
   "metadata": {},
   "outputs": [
    {
     "data": {
      "text/html": [
       "<table border='1'>\n",
       "<tr><th>Last Update</th><th>Country/Region</th><th>Province/State</th><th>Confirmed</th><th>Recovered</th><th>Deaths</th><th>Latitude</th><th>Longitude</th><th>input_file_name</th><th>iso_alpha_3</th><th>iso_country</th></tr>\n",
       "<tr><td>2020-03-21 10:13:08</td><td>China</td><td>Hubei</td><td>67800</td><td>58946</td><td>3139</td><td>30.9756</td><td>112.2707</td><td>file:/tmp/COVID-1...</td><td>CHN</td><td>CHN</td></tr>\n",
       "<tr><td>2020-03-21 17:43:03</td><td>Italy</td><td>null</td><td>53578</td><td>6072</td><td>4825</td><td>41.8719</td><td>12.5674</td><td>file:/tmp/COVID-1...</td><td>ITA</td><td>ITA</td></tr>\n",
       "<tr><td>2020-03-21 13:13:30</td><td>Spain</td><td>null</td><td>25374</td><td>2125</td><td>1375</td><td>40.4637</td><td>-3.7492</td><td>file:/tmp/COVID-1...</td><td>ESP</td><td>ESP</td></tr>\n",
       "<tr><td>2020-03-21 20:43:02</td><td>Germany</td><td>null</td><td>22213</td><td>233</td><td>84</td><td>51.1657</td><td>10.4515</td><td>file:/tmp/COVID-1...</td><td>DEU</td><td>DEU</td></tr>\n",
       "<tr><td>2020-03-21 11:13:12</td><td>Iran</td><td>null</td><td>20610</td><td>7635</td><td>1556</td><td>32.4279</td><td>53.688</td><td>file:/tmp/COVID-1...</td><td>IRN</td><td>IRN</td></tr>\n",
       "<tr><td>2020-03-21 20:43:02</td><td>France</td><td>France</td><td>14282</td><td>12</td><td>562</td><td>46.2276</td><td>2.2137</td><td>file:/tmp/COVID-1...</td><td>FRA</td><td>FRA</td></tr>\n",
       "<tr><td>2020-03-21 22:43:04</td><td>US</td><td>New York</td><td>11710</td><td>0</td><td>60</td><td>42.1657</td><td>-74.9481</td><td>file:/tmp/COVID-1...</td><td>USA</td><td>USA</td></tr>\n",
       "<tr><td>2020-03-21 11:13:12</td><td>Korea, South</td><td>null</td><td>8799</td><td>1540</td><td>102</td><td>35.9078</td><td>127.7669</td><td>file:/tmp/COVID-1...</td><td>ATF</td><td>ATF</td></tr>\n",
       "<tr><td>2020-03-21 20:43:02</td><td>Switzerland</td><td>null</td><td>6575</td><td>15</td><td>75</td><td>46.8182</td><td>8.2275</td><td>file:/tmp/COVID-1...</td><td>CHE</td><td>CHE</td></tr>\n",
       "<tr><td>2020-03-21 20:43:03</td><td>United Kingdom</td><td>United Kingdom</td><td>5018</td><td>65</td><td>233</td><td>55.3781</td><td>-3.436</td><td>file:/tmp/COVID-1...</td><td>GBR</td><td>GBR</td></tr>\n",
       "<tr><td>2020-03-21 14:43:04</td><td>Netherlands</td><td>Netherlands</td><td>3631</td><td>2</td><td>136</td><td>52.1326</td><td>5.2913</td><td>file:/tmp/COVID-1...</td><td>NLD</td><td>NLD</td></tr>\n",
       "<tr><td>2020-03-21 11:13:12</td><td>Belgium</td><td>null</td><td>2815</td><td>263</td><td>67</td><td>50.5039</td><td>4.4699</td><td>file:/tmp/COVID-1...</td><td>BEL</td><td>BEL</td></tr>\n",
       "<tr><td>2020-03-21 14:43:03</td><td>Austria</td><td>null</td><td>2814</td><td>9</td><td>8</td><td>47.5162</td><td>14.5501</td><td>file:/tmp/COVID-1...</td><td>AUT</td><td>AUT</td></tr>\n",
       "<tr><td>2020-03-21 17:13:07</td><td>Norway</td><td>null</td><td>2118</td><td>1</td><td>7</td><td>60.472</td><td>8.4689</td><td>file:/tmp/COVID-1...</td><td>NOR</td><td>NOR</td></tr>\n",
       "<tr><td>2020-03-21 22:43:04</td><td>US</td><td>Washington</td><td>1793</td><td>0</td><td>94</td><td>47.4009</td><td>-121.4905</td><td>file:/tmp/COVID-1...</td><td>USA</td><td>USA</td></tr>\n",
       "<tr><td>2020-03-21 14:43:03</td><td>Sweden</td><td>null</td><td>1763</td><td>16</td><td>20</td><td>60.1282</td><td>18.6435</td><td>file:/tmp/COVID-1...</td><td>SWE</td><td>SWE</td></tr>\n",
       "<tr><td>2020-03-21 12:43:08</td><td>China</td><td>Guangdong</td><td>1400</td><td>1325</td><td>8</td><td>23.3417</td><td>113.4244</td><td>file:/tmp/COVID-1...</td><td>CHN</td><td>CHN</td></tr>\n",
       "<tr><td>2020-03-21 22:43:04</td><td>US</td><td>California</td><td>1364</td><td>0</td><td>24</td><td>36.1162</td><td>-119.6816</td><td>file:/tmp/COVID-1...</td><td>USA</td><td>USA</td></tr>\n",
       "<tr><td>2020-03-21 19:43:03</td><td>US</td><td>New Jersey</td><td>1327</td><td>0</td><td>16</td><td>40.2989</td><td>-74.521</td><td>file:/tmp/COVID-1...</td><td>USA</td><td>USA</td></tr>\n",
       "<tr><td>2020-03-21 12:43:08</td><td>Denmark</td><td>Denmark</td><td>1326</td><td>1</td><td>13</td><td>56.2639</td><td>9.5018</td><td>file:/tmp/COVID-1...</td><td>DNK</td><td>DNK</td></tr>\n",
       "</table>\n",
       "only showing top 20 rows\n"
      ],
      "text/plain": [
       "DataFrame[Last Update: timestamp, Country/Region: string, Province/State: string, Confirmed: int, Recovered: int, Deaths: int, Latitude: double, Longitude: double, input_file_name: string, iso_alpha_3: string, iso_country: string]"
      ]
     },
     "execution_count": 26,
     "metadata": {},
     "output_type": "execute_result"
    }
   ],
   "source": [
    "df"
   ]
  },
  {
   "cell_type": "code",
   "execution_count": 19,
   "metadata": {},
   "outputs": [
    {
     "data": {
      "text/html": [
       "<table border='1'>\n",
       "<tr><th>Country/Region</th><th>count</th></tr>\n",
       "<tr><td>Ivory Coast</td><td>1</td></tr>\n",
       "<tr><td>Kosovo</td><td>7</td></tr>\n",
       "<tr><td>occupied Palestin...</td><td>7</td></tr>\n",
       "<tr><td>Reunion</td><td>11</td></tr>\n",
       "<tr><td>Macau</td><td>48</td></tr>\n",
       "<tr><td>Curacao</td><td>2</td></tr>\n",
       "<tr><td>Hong Kong SAR</td><td>1</td></tr>\n",
       "<tr><td>Congo (Kinshasa)</td><td>11</td></tr>\n",
       "<tr><td>Saint Barthelemy</td><td>7</td></tr>\n",
       "<tr><td>Cruise Ship</td><td>11</td></tr>\n",
       "<tr><td>Others</td><td>33</td></tr>\n",
       "<tr><td>UK</td><td>40</td></tr>\n",
       "<tr><td>Congo (Brazzaville)</td><td>7</td></tr>\n",
       "<tr><td>Macao SAR</td><td>1</td></tr>\n",
       "<tr><td>Taipei and environs</td><td>1</td></tr>\n",
       "<tr><td>Vietnam</td><td>58</td></tr>\n",
       "</table>\n"
      ],
      "text/plain": [
       "+--------------------+-----+\n",
       "|      Country/Region|count|\n",
       "+--------------------+-----+\n",
       "|         Ivory Coast|    1|\n",
       "|              Kosovo|    7|\n",
       "|occupied Palestin...|    7|\n",
       "|             Reunion|   11|\n",
       "|               Macau|   48|\n",
       "|             Curacao|    2|\n",
       "|       Hong Kong SAR|    1|\n",
       "|    Congo (Kinshasa)|   11|\n",
       "|    Saint Barthelemy|    7|\n",
       "|         Cruise Ship|   11|\n",
       "|              Others|   33|\n",
       "|                  UK|   40|\n",
       "| Congo (Brazzaville)|    7|\n",
       "|           Macao SAR|    1|\n",
       "| Taipei and environs|    1|\n",
       "|             Vietnam|   58|\n",
       "+--------------------+-----+"
      ]
     },
     "execution_count": 19,
     "metadata": {},
     "output_type": "execute_result"
    }
   ],
   "source": [
    "df.where(isnull(df.iso_alpha_3)).groupby(df['Country/Region']).count()"
   ]
  },
  {
   "cell_type": "code",
   "execution_count": null,
   "metadata": {},
   "outputs": [],
   "source": []
  }
 ],
 "metadata": {
  "kernelspec": {
   "display_name": "Python 3",
   "language": "python",
   "name": "python3"
  },
  "language_info": {
   "codemirror_mode": {
    "name": "ipython",
    "version": 3
   },
   "file_extension": ".py",
   "mimetype": "text/x-python",
   "name": "python",
   "nbconvert_exporter": "python",
   "pygments_lexer": "ipython3",
   "version": "3.7.6"
  }
 },
 "nbformat": 4,
 "nbformat_minor": 4
}
